{
 "cells": [
  {
   "cell_type": "code",
   "execution_count": null,
   "id": "d5ad025d-e305-4ac0-863d-b8110097a717",
   "metadata": {},
   "outputs": [],
   "source": [
    "from langchain.llms import OpenAI\n",
    "\n",
    "\n",
    "llm = OpenAI(temperature=0.9)"
   ]
  },
  {
   "cell_type": "code",
   "execution_count": null,
   "id": "199b3735-809f-4dca-aee9-22db34082845",
   "metadata": {},
   "outputs": [],
   "source": [
    "text = \"What are the 5 top vacation destinations for someone who likes to eat momo?\"\n",
    "\n",
    "print(llm(text))"
   ]
  },
  {
   "cell_type": "code",
   "execution_count": null,
   "id": "4cb1fa18-4882-4271-9ead-7cbb75c719b6",
   "metadata": {},
   "outputs": [],
   "source": [
    "from langchain.prompts import PromptTemplate\n",
    "\n",
    "prompt = PromptTemplate(\n",
    "    input_variables = [\"number\",\"food\"],\n",
    "    template=\"What are the top {number} vacation destinations for someone who like to eat {food}?\",\n",
    ")\n",
    "\n",
    "print(prompt.format(number=10, food=\"sweet\"))"
   ]
  },
  {
   "cell_type": "code",
   "execution_count": null,
   "id": "037a18a5-24a8-4d9b-90e7-80a4865f2933",
   "metadata": {},
   "outputs": [],
   "source": [
    "print(llm(prompt.format(number=20, food=\"rice\")))"
   ]
  },
  {
   "cell_type": "code",
   "execution_count": 23,
   "id": "d4f9baf6-1593-418f-8fe0-94d482c8f752",
   "metadata": {},
   "outputs": [
    {
     "name": "stdout",
     "output_type": "stream",
     "text": [
      "{'number': 10, 'food': 'momo', 'text': '\\n\\n1. Kathmandu, Nepal\\n2. Sikkim, India\\n3. Bhutan\\n4. Darjeeling, India\\n5. Ladakh, India\\n6. Dharamshala, India\\n7. Pokhara, Nepal\\n8. Gangtok, India\\n9. Varanasi, India\\n10. Shimla, India'}\n"
     ]
    }
   ],
   "source": [
    "from langchain.chains import LLMChain\n",
    "\n",
    "chain = LLMChain( llm=llm, prompt=prompt )\n",
    "print(chain({\"number\":10, \"food\":\"momo\"}))"
   ]
  },
  {
   "cell_type": "code",
   "execution_count": 26,
   "id": "18ce8176-f350-4695-9a94-f45beb556968",
   "metadata": {},
   "outputs": [
    {
     "name": "stdout",
     "output_type": "stream",
     "text": [
      "Collecting google-search-results\n",
      "  Downloading google_search_results-2.4.2.tar.gz (18 kB)\n",
      "  Preparing metadata (setup.py): started\n",
      "  Preparing metadata (setup.py): finished with status 'done'\n",
      "Requirement already satisfied: requests in c:\\users\\shree\\.conda\\envs\\langchainlab\\lib\\site-packages (from google-search-results) (2.31.0)\n",
      "Requirement already satisfied: charset-normalizer<4,>=2 in c:\\users\\shree\\.conda\\envs\\langchainlab\\lib\\site-packages (from requests->google-search-results) (3.2.0)\n",
      "Requirement already satisfied: idna<4,>=2.5 in c:\\users\\shree\\.conda\\envs\\langchainlab\\lib\\site-packages (from requests->google-search-results) (3.4)\n",
      "Requirement already satisfied: urllib3<3,>=1.21.1 in c:\\users\\shree\\.conda\\envs\\langchainlab\\lib\\site-packages (from requests->google-search-results) (2.0.3)\n",
      "Requirement already satisfied: certifi>=2017.4.17 in c:\\users\\shree\\.conda\\envs\\langchainlab\\lib\\site-packages (from requests->google-search-results) (2023.5.7)\n",
      "Building wheels for collected packages: google-search-results\n",
      "  Building wheel for google-search-results (setup.py): started\n",
      "  Building wheel for google-search-results (setup.py): finished with status 'done'\n",
      "  Created wheel for google-search-results: filename=google_search_results-2.4.2-py3-none-any.whl size=32076 sha256=92d18ad0e2a073be9167c243f8a948962f42d31589542adc1d87082499711a50\n",
      "  Stored in directory: c:\\users\\shree\\appdata\\local\\pip\\cache\\wheels\\6e\\42\\3e\\aeb691b02cb7175ec70e2da04b5658d4739d2b41e5f73cd06f\n",
      "Successfully built google-search-results\n",
      "Installing collected packages: google-search-results\n",
      "Successfully installed google-search-results-2.4.2\n",
      "Note: you may need to restart the kernel to use updated packages.\n"
     ]
    }
   ],
   "source": [
    "pip install google-search-results"
   ]
  },
  {
   "cell_type": "code",
   "execution_count": null,
   "id": "e49e02f4-7bc2-4d63-88fa-cbde5ad22bc5",
   "metadata": {},
   "outputs": [],
   "source": [
    "from langchain.agents import load_tools\n",
    "from langchain.agents import initialize_agent\n",
    "import os\n",
    "\n",
    "os.environ['SERPAPI_API_KEY'] = 'fd4660f90edc2a742d0053acd64d41948fead055ae8a8778fb7c023e0e943221'\n",
    "tools = load_tools([\"serpapi\",\"llm-math\"], llm=llm)\n",
    "\n",
    "agent = initialize_agent(tools, llm, agent=\"zero-shot-react-description\", verbose=True)\n",
    "\n",
    "agent.run(\"Who is the current leader of Japan? Add 444444444 and 444\")\n"
   ]
  },
  {
   "cell_type": "code",
   "execution_count": null,
   "id": "b8c1c971-1889-4408-b1e1-24d007f6b563",
   "metadata": {},
   "outputs": [],
   "source": []
  }
 ],
 "metadata": {
  "kernelspec": {
   "display_name": "Python 3 (ipykernel)",
   "language": "python",
   "name": "python3"
  },
  "language_info": {
   "codemirror_mode": {
    "name": "ipython",
    "version": 3
   },
   "file_extension": ".py",
   "mimetype": "text/x-python",
   "name": "python",
   "nbconvert_exporter": "python",
   "pygments_lexer": "ipython3",
   "version": "3.11.4"
  }
 },
 "nbformat": 4,
 "nbformat_minor": 5
}
